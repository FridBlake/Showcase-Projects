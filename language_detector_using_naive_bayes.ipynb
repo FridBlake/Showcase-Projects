{
  "nbformat": 4,
  "nbformat_minor": 0,
  "metadata": {
    "colab": {
      "provenance": []
    },
    "kernelspec": {
      "name": "python3",
      "display_name": "Python 3"
    },
    "language_info": {
      "name": "python"
    }
  },
  "cells": [
    {
      "cell_type": "code",
      "execution_count": 1,
      "metadata": {
        "id": "U56HqL0pb7gN"
      },
      "outputs": [],
      "source": [
        "import pandas as pd\n",
        "import numpy as np\n",
        "from sklearn.feature_extraction.text import CountVectorizer\n",
        "from sklearn.model_selection import train_test_split\n",
        "from sklearn.naive_bayes import MultinomialNB\n",
        "\n",
        "data = pd.read_csv('Language Detection.csv')\n",
        "X = np.array(data['Text'])\n",
        "y = np.array(data['Language'])\n",
        "\n",
        "tokenizer = CountVectorizer()\n",
        "X = tokenizer.fit_transform(X)\n"
      ]
    },
    {
      "cell_type": "code",
      "source": [
        "X_train, X_test, y_train, y_test = train_test_split(X, y)\n",
        "\n",
        "nb_model = MultinomialNB()\n",
        "nb_model.fit(X_train, y_train)\n",
        "nb_model.score(X_test, y_test)"
      ],
      "metadata": {
        "colab": {
          "base_uri": "https://localhost:8080/"
        },
        "id": "YQzsvPXielgG",
        "outputId": "10dee653-7159-4518-d657-448a4c397e14"
      },
      "execution_count": 2,
      "outputs": [
        {
          "output_type": "execute_result",
          "data": {
            "text/plain": [
              "0.9775628626692456"
            ]
          },
          "metadata": {},
          "execution_count": 2
        }
      ]
    },
    {
      "cell_type": "markdown",
      "source": [
        "Making predictions\n"
      ],
      "metadata": {
        "id": "qWFqkVrxe9kv"
      }
    },
    {
      "cell_type": "code",
      "source": [
        "inp = str(input('Enter a text :: '))\n",
        "data = tokenizer.transform([inp]).toarray()\n",
        "print(nb_model.predict(data)[0])\n",
        "\n",
        "from sklearn.metrics import classification_report\n",
        "\n",
        "print(classification_report(nb_model.predict(X_test), y_test))"
      ],
      "metadata": {
        "colab": {
          "base_uri": "https://localhost:8080/"
        },
        "id": "EQHr4cCefPHt",
        "outputId": "651f58be-bbc4-4230-ad41-e5fb8d91f3cd"
      },
      "execution_count": 15,
      "outputs": [
        {
          "output_type": "stream",
          "name": "stdout",
          "text": [
            "Enter a text ::  எங்கள் நீல குறுக்கு கொடி\n",
            "Tamil\n",
            "              precision    recall  f1-score   support\n",
            "\n",
            "      Arabic       0.96      1.00      0.98       123\n",
            "      Danish       0.94      1.00      0.97        99\n",
            "       Dutch       0.99      0.99      0.99       133\n",
            "     English       1.00      0.90      0.94       381\n",
            "      French       0.98      0.98      0.98       261\n",
            "      German       0.97      1.00      0.99       117\n",
            "       Greek       0.97      1.00      0.99        68\n",
            "       Hindi       0.95      1.00      0.97        19\n",
            "     Italian       0.99      0.99      0.99       186\n",
            "     Kannada       0.96      1.00      0.98        85\n",
            "   Malayalam       0.98      0.98      0.98       161\n",
            "  Portugeese       1.00      0.99      0.99       173\n",
            "     Russian       0.95      1.00      0.98       189\n",
            "     Spanish       0.97      0.99      0.98       191\n",
            "    Sweedish       0.99      0.98      0.99       172\n",
            "       Tamil       0.99      1.00      1.00       111\n",
            "     Turkish       0.93      1.00      0.96       116\n",
            "\n",
            "    accuracy                           0.98      2585\n",
            "   macro avg       0.97      0.99      0.98      2585\n",
            "weighted avg       0.98      0.98      0.98      2585\n",
            "\n"
          ]
        }
      ]
    },
    {
      "cell_type": "code",
      "source": [
        "myl = [58, 72, 74, 92, 84, 40, 74, 81, 76, 83]\n",
        "myl.sort()\n",
        "\n",
        "print(myl)"
      ],
      "metadata": {
        "colab": {
          "base_uri": "https://localhost:8080/"
        },
        "id": "HrH4Jp6sK0Pq",
        "outputId": "e1a07845-49b4-4a5a-a8c3-a068f5221649"
      },
      "execution_count": 21,
      "outputs": [
        {
          "output_type": "stream",
          "name": "stdout",
          "text": [
            "[40, 58, 72, 74, 74, 76, 81, 83, 84, 92]\n"
          ]
        }
      ]
    }
  ]
}