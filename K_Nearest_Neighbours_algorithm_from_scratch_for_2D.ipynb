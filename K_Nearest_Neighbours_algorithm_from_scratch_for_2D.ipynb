{
  "nbformat": 4,
  "nbformat_minor": 0,
  "metadata": {
    "colab": {
      "provenance": [],
      "collapsed_sections": [],
      "authorship_tag": "ABX9TyPeC/oxA5GHRvQ6fWsPdq7u",
      "include_colab_link": true
    },
    "kernelspec": {
      "name": "python3",
      "display_name": "Python 3"
    },
    "language_info": {
      "name": "python"
    }
  },
  "cells": [
    {
      "cell_type": "markdown",
      "metadata": {
        "id": "view-in-github",
        "colab_type": "text"
      },
      "source": [
        "<a href=\"https://colab.research.google.com/github/FridBlake/Machine-Learning-Showcase/blob/main/K_Nearest_Neighbours_algorithm_from_scratch_for_2D.ipynb\" target=\"_parent\"><img src=\"https://colab.research.google.com/assets/colab-badge.svg\" alt=\"Open In Colab\"/></a>"
      ]
    },
    {
      "cell_type": "code",
      "execution_count": null,
      "metadata": {
        "id": "f9IQqz3BJTq3"
      },
      "outputs": [],
      "source": [
        "#Work of Advaith Subramanian Sahasranamam. Do not copy or distribute. \n",
        "\n",
        "import math\n",
        "\n",
        "#we're going to call this a class. \n",
        "class KNNeighbours():\n",
        "  def __init__ (self, neighbors):\n",
        "    self.neighbors = neighbors\n",
        "\n",
        "  def fit(self, trainset, classes):\n",
        "    self.trainset = trainset\n",
        "    self.classes = classes\n",
        "\n",
        "    #this block of code valideres the input that has been given for K\n",
        "    if self.neighbors > len(self.trainset):\n",
        "      raise ValueError('K value cannot be larger than the number of instances.')\n",
        "    elif self.neighbors % 2 == 0:\n",
        "      raise ValueError('K value can only be an odd integer. Even integers may cause ties.')\n",
        "\n",
        "    #now we find the euclidan distance \n",
        "    for i in trainset:\n",
        "      euclid = math.sqrt((i[0]**2) + (i[1]**2))\n",
        "      i[1] = euclid\n",
        "      del i[0]\n",
        "    \n",
        "  #writing another method for predictions\n",
        "  def predict(self, point):\n",
        "    onec = 0\n",
        "    twoc = 0\n",
        "    self.point = point\n",
        "    euclid2 = math.sqrt((point[0]**2) + (point[1]**2))\n",
        "    distList = []\n",
        "\n",
        "    #finding the distance between the two points\n",
        "    for i in self.trainset:\n",
        "      distList.append(i[0] - euclid2)\n",
        "    \n",
        "    #distList contains euclideans of points from the prediction set, sorted in order.\n",
        "    distList.sort()\n",
        "    nearest = distList[0]\n",
        "\n",
        "    #now we find their indices\n",
        "    for i in range(self.neighbors):\n",
        "      neighborlist = []\n",
        "      nearest = distList[i]\n",
        "      for i,j in enumerate(self.trainset):\n",
        "        if nearest in j:\n",
        "          \n",
        "\n",
        "          x = i #this is going to be the index of the parent list\n",
        "          #now if it's class1, onec+=1. Else if it's the second class, twoc+=1.\n",
        "          if self.trainset[i][1] == self.classes[0]:\n",
        "            onec+=1\n",
        "          elif self.trainset[i][1] == self.classes[1]:\n",
        "            twoc+=1\n",
        "          \n",
        "\n",
        "\n",
        "    #onec is counts of class one, and twoc is counts of class two\n",
        "    if onec > twoc:\n",
        "      print(f'Predicted {self.classes[0]}')\n",
        "      return(self.classes[0])\n",
        "    else:\n",
        "      print(f'Predicted {self.classes[1]}')\n",
        "      return(self.classes[1])\n"
      ]
    },
    {
      "cell_type": "code",
      "source": [
        "model = KNNeighbours(3)\n",
        "model.fit([[6, 0, 'Laurel'], [5, 0, 'Laurel'], [7, 0, 'Yanny'], [500, 0, 'Laurel'], [11, 0, 'Yanny']], classes=['Laurel', 'Yanny'])\n",
        "model.predict([0,0])\n",
        "\n",
        "#As expected, it predicts 'Laurel' correctly."
      ],
      "metadata": {
        "colab": {
          "base_uri": "https://localhost:8080/",
          "height": 53
        },
        "id": "yNZBG_H7N3iq",
        "outputId": "c0ab539e-fd71-463e-a328-4a5fb54727ae"
      },
      "execution_count": null,
      "outputs": [
        {
          "output_type": "stream",
          "name": "stdout",
          "text": [
            "Predicted Laurel\n"
          ]
        },
        {
          "output_type": "execute_result",
          "data": {
            "text/plain": [
              "'Laurel'"
            ],
            "application/vnd.google.colaboratory.intrinsic+json": {
              "type": "string"
            }
          },
          "metadata": {},
          "execution_count": 4
        }
      ]
    }
  ]
}