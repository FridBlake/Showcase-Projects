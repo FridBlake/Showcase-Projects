{
  "nbformat": 4,
  "nbformat_minor": 0,
  "metadata": {
    "colab": {
      "provenance": []
    },
    "kernelspec": {
      "name": "python3",
      "display_name": "Python 3"
    },
    "language_info": {
      "name": "python"
    }
  },
  "cells": [
    {
      "cell_type": "code",
      "execution_count": null,
      "metadata": {
        "id": "h8yWeiUErXOz"
      },
      "outputs": [],
      "source": [
        "import pandas as pd\n",
        "import numpy as np\n",
        "from sklearn.feature_extraction.text import CountVectorizer\n",
        "from sklearn.model_selection import train_test_split\n",
        "from sklearn.naive_bayes import MultinomialNB\n",
        "import sklearn"
      ]
    },
    {
      "cell_type": "code",
      "source": [
        "#dataset retrieved from Kaggle.\n",
        "data = pd.read_csv('spam_ham_dataset.csv')\n",
        "data = data.drop('label', axis=1)\n",
        "data = data.drop('Unnamed: 0', axis=1)\n",
        "\n",
        "\n",
        "#spam is 1, ham is 0\n",
        "data\n",
        "X = np.array(data['text'])\n",
        "y = np.array(data['label_num'])\n"
      ],
      "metadata": {
        "id": "BOaukbrytHrY"
      },
      "execution_count": null,
      "outputs": []
    },
    {
      "cell_type": "code",
      "source": [
        "#using a count vectorizer to transform words into numbers.\n",
        "countvec = CountVectorizer()\n",
        "X = countvec.fit_transform(X)"
      ],
      "metadata": {
        "id": "82XoPorMukaS"
      },
      "execution_count": null,
      "outputs": []
    },
    {
      "cell_type": "code",
      "source": [
        "#Splitting the data into train and test.\n",
        "X_train, X_test, y_train, y_test = train_test_split(X, y, test_size=0.33, random_state=42)\n",
        "\n",
        "#We're going to use naive_bayes in this model.\n",
        "nb_model = MultinomialNB()\n",
        "nb_model.fit(X_train, y_train)\n"
      ],
      "metadata": {
        "colab": {
          "base_uri": "https://localhost:8080/"
        },
        "id": "Zx58FmgsvK77",
        "outputId": "cc297377-c63d-436f-918e-f5f3a93c1ea7"
      },
      "execution_count": null,
      "outputs": [
        {
          "output_type": "execute_result",
          "data": {
            "text/plain": [
              "MultinomialNB()"
            ]
          },
          "metadata": {},
          "execution_count": 8
        }
      ]
    },
    {
      "cell_type": "code",
      "source": [
        "#we will now evaluate the model first by testing it.\n",
        "from sklearn.metrics import classification_report\n",
        "y_pred = nb_model.predict(X_test)\n",
        "\n",
        "print(classification_report(y_pred, y_test))\n"
      ],
      "metadata": {
        "colab": {
          "base_uri": "https://localhost:8080/"
        },
        "id": "-Ejt6lp-vMBO",
        "outputId": "6a9dae9e-5eab-449c-e130-5ae9e273f590"
      },
      "execution_count": null,
      "outputs": [
        {
          "output_type": "stream",
          "name": "stdout",
          "text": [
            "              precision    recall  f1-score   support\n",
            "\n",
            "           0       0.98      0.98      0.98      1247\n",
            "           1       0.96      0.96      0.96       460\n",
            "\n",
            "    accuracy                           0.98      1707\n",
            "   macro avg       0.97      0.97      0.97      1707\n",
            "weighted avg       0.98      0.98      0.98      1707\n",
            "\n"
          ]
        }
      ]
    },
    {
      "cell_type": "code",
      "source": [
        "#Now, we try entering our own messages to classify for spam and ham.\n",
        "\n",
        "sample = input('Enter something: ')\n",
        "predictiondata = countvec.transform([sample]).toarray()\n",
        "print(\"Ham\" if nb_model.predict(predictiondata) == 0 else \"Spam\")\n",
        "\n"
      ],
      "metadata": {
        "id": "5NrCj3-FvZLJ",
        "colab": {
          "base_uri": "https://localhost:8080/"
        },
        "outputId": "44b0ed2b-1175-4c16-aead-6ee7de4f5631"
      },
      "execution_count": null,
      "outputs": [
        {
          "output_type": "stream",
          "name": "stdout",
          "text": [
            "Enter something: Earn 10 dollars a second!\n",
            "Spam\n"
          ]
        }
      ]
    }
  ]
}